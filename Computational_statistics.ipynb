{
  "cells": [
    {
      "cell_type": "markdown",
      "metadata": {
        "id": "view-in-github",
        "colab_type": "text"
      },
      "source": [
        "<a href=\"https://colab.research.google.com/github/Mounika3112/computational-statistics/blob/main/Computational_statistics.ipynb\" target=\"_parent\"><img src=\"https://colab.research.google.com/assets/colab-badge.svg\" alt=\"Open In Colab\"/></a>"
      ]
    },
    {
      "cell_type": "code",
      "execution_count": null,
      "metadata": {
        "id": "-6nrN7yDF2BD"
      },
      "outputs": [],
      "source": [
        "import numpy as np\n",
        "import matplotlib.pyplot as plt"
      ]
    },
    {
      "cell_type": "code",
      "source": [
        "def transpose(x):\n",
        "    xt=[[0 for i in range(len(x))] for j in range(len(x[0]))]\n",
        "    for i in range(len(x)):\n",
        "        for j in range(len(x[0])):\n",
        "             xt[j][i]=x[i][j]\n",
        "    return xt\n",
        "def mul(x,y):\n",
        "    res =  [[0 for i in range(len(y[0]))] for j in range(len(x))]\n",
        "    for i in range(len(x)):\n",
        "        for j in range(len(y[0])):\n",
        "            for k in range(len(y)):\n",
        "                res[i][j]+=x[i][k]*y[k][j]\n",
        "    return res\n",
        "def minor(m,i,j):\n",
        "    return [row[:j] + row[j+1:] for row in (m[:i]+m[i+1:])]\n",
        "def det(m):\n",
        "    if len(m)==2:\n",
        "        return (m[0][0]*m[1][1]-m[0][1]*m[1][0])\n",
        "    else:\n",
        "        d=0\n",
        "        for c in range(len(m)):\n",
        "            d+=((-1)**c)*m[0][c]*det(minor(m,0,c))\n",
        "    return d\n",
        "def cofactor(m):\n",
        "    cf=[[0 for i in range(len(m))] for j in range(len(m[0]))]\n",
        "    for i in range(len(m)):\n",
        "        for j in range(len(m[0])):\n",
        "            cf[i][j]=((-1)**(i+j))*det(minor(m,i,j))\n",
        "    return cf\n",
        "def inverse(m):\n",
        "    inv=[[0 for i in range(len(m))] for j in range(len(m[0]))]\n",
        "    cf=transpose(cofactor(m))\n",
        "    for i in range(len(m)):\n",
        "        for j in range(len(m[0])):\n",
        "            inv[i][j]=cf[i][j]/det(m)\n",
        "    return inv"
      ],
      "metadata": {
        "id": "ALjNNoYB3kgR"
      },
      "execution_count": null,
      "outputs": []
    },
    {
      "cell_type": "code",
      "source": [
        "import numpy as np\n",
        "def mul(x,y):\n",
        "  r=[[0 for i in range(len(y[0]))]for j in range(len(x))]\n",
        "  for i in range(len(x)):\n",
        "    for j in range(len(y[0])):\n",
        "      for k in range(len(y)):\n",
        "        r[i][j]=r[i][j]+x[i][k]*y[k][j]\n",
        "  return r\n",
        "l1=[[5,40,10],[40,360,86],[10,86,30]]\n",
        "l2=[[30],[260],[53]]\n",
        "print(mul(l1,l2))"
      ],
      "metadata": {
        "colab": {
          "base_uri": "https://localhost:8080/"
        },
        "id": "OyXoCaa8Opbm",
        "outputId": "fdcb8a17-be02-49dc-e0d6-a2f7ced6ce7e"
      },
      "execution_count": null,
      "outputs": [
        {
          "output_type": "stream",
          "name": "stdout",
          "text": [
            "[[11080], [99358], [24250]]\n"
          ]
        }
      ]
    },
    {
      "cell_type": "code",
      "source": [
        "print(round(5.9076532222,4))"
      ],
      "metadata": {
        "colab": {
          "base_uri": "https://localhost:8080/"
        },
        "id": "l2SP0QK5Ex3K",
        "outputId": "82c9304c-9a5a-4860-a3a1-898611ad28b1"
      },
      "execution_count": null,
      "outputs": [
        {
          "output_type": "stream",
          "name": "stdout",
          "text": [
            "5.9077\n"
          ]
        }
      ]
    },
    {
      "cell_type": "code",
      "execution_count": null,
      "metadata": {
        "colab": {
          "base_uri": "https://localhost:8080/"
        },
        "id": "Hu4WJoR9GIRP",
        "outputId": "e6aaaa69-4805-42b2-9bef-1f6d790b2253"
      },
      "outputs": [
        {
          "name": "stdout",
          "output_type": "stream",
          "text": [
            "[[4 5 6]\n",
            " [1 2 3]]\n",
            "(2, 3)\n",
            "6\n",
            "2\n",
            "int64\n",
            "8\n"
          ]
        }
      ],
      "source": [
        "x=np.array([[4,5,6],[1,2,3]],dtype=int)\n",
        "print(x)\n",
        "print(x.shape)\n",
        "print(x.size)\n",
        "print(x.ndim)\n",
        "print(x.dtype)\n",
        "print(x.itemsize)"
      ]
    },
    {
      "cell_type": "code",
      "source": [],
      "metadata": {
        "id": "JWWijbbmQ9KM"
      },
      "execution_count": null,
      "outputs": []
    },
    {
      "cell_type": "markdown",
      "source": [
        "**corelation coefficient**"
      ],
      "metadata": {
        "id": "pe5Ev-KtQ-Uz"
      }
    },
    {
      "cell_type": "code",
      "source": [
        "import numpy as np\n",
        "import math\n",
        "x=np.array([float(x) for x in input().split()])\n",
        "y=np.array([float(y) for y in input().split()])\n",
        "n=len(x)\n",
        "xb=np.mean(x)\n",
        "yb=np.mean(y)\n",
        "sxy=np.sum(x*y)\n",
        "sxx=sum(x*x)\n",
        "syy=sum(y*y)\n",
        "sx=math.sqrt((sxx/n)-xb**2)\n",
        "sy=math.sqrt((syy/n)-yb**2)\n",
        "c=(sxy/n)-(xb*yb)\n",
        "r=c/(sx*sy)\n",
        "print(r)"
      ],
      "metadata": {
        "colab": {
          "base_uri": "https://localhost:8080/"
        },
        "id": "c_SidWxuBjxn",
        "outputId": "b9ededb8-9cfd-4d5f-a80b-5e9198edf73f"
      },
      "execution_count": null,
      "outputs": [
        {
          "output_type": "stream",
          "name": "stdout",
          "text": [
            "65 66 67 67 68 69 70 72\n",
            "67 68 65 68 72 72 69 71\n",
            "0.6030226891555273\n"
          ]
        }
      ]
    },
    {
      "cell_type": "markdown",
      "metadata": {
        "id": "92dCX0YHIj6a"
      },
      "source": [
        "**Linear** **plot**\n"
      ]
    },
    {
      "cell_type": "code",
      "execution_count": null,
      "metadata": {
        "colab": {
          "base_uri": "https://localhost:8080/",
          "height": 300
        },
        "id": "x3ecksbYHqcU",
        "outputId": "7bf88534-fb0e-468f-b616-1fc3c3e4abff"
      },
      "outputs": [
        {
          "name": "stdout",
          "output_type": "stream",
          "text": [
            "[20.         22.22222222 24.44444444 26.66666667 28.88888889 31.11111111\n",
            " 33.33333333 35.55555556 37.77777778 40.        ]\n"
          ]
        },
        {
          "data": {
            "image/png": "[encoded data removed]",
            "text/plain": [
              "<Figure size 432x288 with 1 Axes>"
            ]
          },
          "metadata": {},
          "output_type": "display_data"
        }
      ],
      "source": [
        "y=np.linspace(20,40,10)\n",
        "print(y)\n",
        "plt.plot(y,\"o-\")\n",
        "plt.show()"
      ]
    },
    {
      "cell_type": "code",
      "execution_count": null,
      "metadata": {
        "colab": {
          "base_uri": "https://localhost:8080/",
          "height": 301
        },
        "id": "_rjBWrVgIisk",
        "outputId": "727605c0-e7a1-4152-dda2-bb2c9c6b448b"
      },
      "outputs": [
        {
          "output_type": "stream",
          "name": "stdout",
          "text": [
            "[1.64 2.86 4.08 5.3  6.52]\n",
            "y=  0.42  +  1.22  x\n"
          ]
        },
        {
          "output_type": "display_data",
          "data": {
            "text/plain": [
              "<Figure size 432x288 with 1 Axes>"
            ],
            "image/png": "[encoded data removed]"
          },
          "metadata": {
            "needs_background": "light"
          }
        }
      ],
      "source": [
        "import numpy as np\n",
        "import matplotlib.pyplot as plt\n",
        "x2=np.array([1,2,3,4,5])\n",
        "y2=np.array([2.0,2.6,3.8,5.2,6.8])\n",
        "n=len(x2)\n",
        "#print(n)\n",
        "sx=0\n",
        "sy=0\n",
        "sxy=0\n",
        "sxx=0\n",
        "xy=x2*y2\n",
        "xx=x2*x2\n",
        "for x in x2:\n",
        "    sx=sx+x\n",
        "for y in y2:\n",
        "    sy=sy+y\n",
        "for i in xy:\n",
        "    sxy=sxy+i\n",
        "for j in xx:\n",
        "    sxx=sxx+j\n",
        "# print(sum(xx))\n",
        "# print(sx,sy,sxy,sxx)\n",
        "a=((sxx*sy)-(sx*sxy))/((n*sxx)-(sx)**2)\n",
        "b=((n*sxy)-(sx*sy))/((n*sxx)-(sx)**2)\n",
        "y3=a+(b*x2)\n",
        "print(y3)\n",
        "print(\"y= \",a,\" + \",b,\" x\")\n",
        "plt.scatter(y2,y3)\n",
        "# plt.plot(y2,y3)\n",
        "# plt.plot(y3,\"o-\")\n",
        "plt.show()"
      ]
    },
    {
      "cell_type": "markdown",
      "source": [
        "**PARABOLA**"
      ],
      "metadata": {
        "id": "81ZGJ7jMhV_K"
      }
    },
    {
      "cell_type": "code",
      "source": [
        "import numpy as np\n",
        "x=np.array([float(x) for x in input().split(\" \")])\n",
        "y=np.array([float(x) for x in input().split(\" \")])\n",
        "n=len(x)\n",
        "sumx=np.sum(x)\n",
        "sumy=np.sum(y)\n",
        "sumxy=np.sum(x*y)\n",
        "sumx2=np.sum(x*x)\n",
        "sumx3=np.sum(x*x*x)\n",
        "sumx4=np.sum(x*x*x*x)\n",
        "sumx2y=np.sum(x*x*y)\n",
        "#calculating determinant\n",
        "def getMinor(m,i,j):\n",
        "  return [row[:j] + row[j+1:] for row in (m[:i]+m[i+1:])]\n",
        "def getDeternminant(m):\n",
        "  if len(m) == 2:\n",
        "    return m[0][0]*m[1][1]-m[0][1]*m[1][0]\n",
        "  determinant = 0\n",
        "  for c in range(len(m)):\n",
        "    determinant += ((-1)**c)*m[0][c]*getDeternminant(getMinor(m,0,c))\n",
        "  return determinant\n",
        "#by using cramer's rule (without built-in)\n",
        "p=getDeternminant([[n,sumx,sumx2],[sumx,sumx2,sumx3],[sumx2,sumx3,sumx4]])\n",
        "q=getDeternminant([[sumy,sumxy,sumx2y],[sumx,sumx2,sumx3],[sumx2,sumx3,sumx4]])\n",
        "r=getDeternminant([[n,sumx,sumx2],[sumy,sumxy,sumx2y],[sumx2,sumx3,sumx4]])\n",
        "s=getDeternminant([[n,sumx,sumx2],[sumx,sumx2,sumx3],[sumy,sumxy,sumx2y]])\n",
        "a=round(q/p,3)\n",
        "b=round(r/p,3)\n",
        "c=round(s/p,3)\n",
        "print(\"The equation of parabola is y={}+{}x+{}x2\".format(a,b,c))\n",
        "import matplotlib.pyplot as plt\n",
        "plt.scatter(x,y)\n",
        "plt.xlabel(\"x values\")\n",
        "plt.ylabel(\"y values\")\n",
        "plt.title(\"Data\")\n",
        "plt.show()\n",
        "\n"
      ],
      "metadata": {
        "colab": {
          "base_uri": "https://localhost:8080/",
          "height": 349
        },
        "id": "dmDS5hwghWT4",
        "outputId": "87c3901d-6410-4494-de2d-bdc9751cccfc"
      },
      "execution_count": null,
      "outputs": [
        {
          "output_type": "stream",
          "name": "stdout",
          "text": [
            "2 4 6 8 10\n",
            "3.07 12.85 31.47 57.38 91.29\n",
            "The equation of parabola is y=0.696+-0.855x+0.992x2\n"
          ]
        },
        {
          "output_type": "display_data",
          "data": {
            "text/plain": [
              "<Figure size 432x288 with 1 Axes>"
            ],
            "image/png": "[encoded data removed]"
          },
          "metadata": {
            "needs_background": "light"
          }
        }
      ]
    },
    {
      "cell_type": "markdown",
      "metadata": {
        "id": "VU0sSp71MGLo"
      },
      "source": [
        "Rank corelation coefficient without repititions\n"
      ]
    },
    {
      "cell_type": "code",
      "execution_count": null,
      "metadata": {
        "colab": {
          "base_uri": "https://localhost:8080/"
        },
        "id": "qd5PqoHqaIZa",
        "outputId": "d563ca12-f964-4a2d-bf79-9c6a4ce1eb6c"
      },
      "outputs": [
        {
          "name": "stdout",
          "output_type": "stream",
          "text": [
            "[3, 4, 1, 2, 6, 5]\n",
            "[3, 4, 2, 1, 6, 5]\n",
            "rank corelation coffecient is:\n",
            "0.9428571428571428\n"
          ]
        }
      ],
      "source": [
        "import numpy as np\n",
        "a=np.array([110,100,140,120,80,90])\n",
        "b=np.array([70,60,80,90,10,20])\n",
        "n=len(a)\n",
        "a1=sorted(a)\n",
        "b1=sorted(b)\n",
        "rankA=[]\n",
        "rankB=[]\n",
        "for x in a:\n",
        "  for i in range(len(a1)):\n",
        "    if(a1[i]==x):\n",
        "      rankA.append(len(a1)-i)\n",
        "for x in b:\n",
        "  for i in range(len(b1)):\n",
        "    if(b1[i]==x):\n",
        "      rankB.append(len(b1)-i)\n",
        "di2=[]\n",
        "for i in range(n):\n",
        "  di2.append((rankA[i]-rankB[i])**2)\n",
        "s=0\n",
        "for i in range(n):\n",
        "  s=s+di2[i]\n",
        "row=1-((6*s)/(n*((n**2)-1)))\n",
        "print(rankA)\n",
        "print(rankB)\n",
        "print(\"rank corelation coffecient is:\")\n",
        "print(row)"
      ]
    },
    {
      "cell_type": "code",
      "execution_count": null,
      "metadata": {
        "colab": {
          "base_uri": "https://localhost:8080/"
        },
        "id": "hS3QrKsiYnHu",
        "outputId": "a82b9d20-9efa-421c-c2e9-316cf467841a"
      },
      "outputs": [
        {
          "name": "stdout",
          "output_type": "stream",
          "text": [
            "[6, 1, 9, 4, 8]\n",
            "[68, 64, 75, 50, 64, 80, 75, 40, 55, 64]\n"
          ]
        }
      ],
      "source": [
        "import numpy as np\n",
        "a=np.array([68,64,75,50,64,80,75,40,55,64])\n",
        "b=np.array([62,58,68,45,81,60,68,48,50,70])\n",
        "a1=list(a)\n",
        "b1=list(b)\n",
        "a2=list(a)\n",
        "b2=list(b)\n",
        "n=len(a)\n",
        "a2.sort(reverse=True)\n",
        "b2.sort(reverse=True)\n",
        "rankA=[]\n",
        "rankB=[]\n",
        "m=[]\n",
        "for i in range(len(a2)):\n",
        "  if(a1.count(a2[i])==1):\n",
        "    f1=a1.index(a2[i])\n",
        "    rankA.append(f1+1)\n",
        "  else:\n",
        "    c=1\n",
        "    c1=i+1\n",
        "    for j in range(i+1,n):\n",
        "      if(a2[j]==a2[i]):\n",
        "        c=c+1\n",
        "        c1=c1+j+1\n",
        "print(rankA)\n",
        "print(a1)"
      ]
    },
    {
      "cell_type": "markdown",
      "metadata": {
        "id": "NnhlwtDwFa7G"
      },
      "source": [
        "**corelation coefficient with repeated values**"
      ]
    },
    {
      "cell_type": "code",
      "execution_count": null,
      "metadata": {
        "colab": {
          "base_uri": "https://localhost:8080/"
        },
        "id": "m-aZGDCWYnJT",
        "outputId": "e37da0c1-3cd5-4cdb-cfa9-2688e0e8c605"
      },
      "outputs": [
        {
          "output_type": "stream",
          "name": "stdout",
          "text": [
            "sorted [120, 118, 115, 112, 109, 100, 98, 98, 98, 87]\n",
            "[120, 118, 115, 112, 109, 100, 98, 87]\n",
            "sorted [85, 82, 80, 76, 75, 73, 73, 70, 68, 65]\n",
            "[85, 82, 80, 76, 75, 73, 70, 68, 65]\n",
            "corelation coefficient is :  0.7272727272727273\n"
          ]
        }
      ],
      "source": [
        "import numpy as np\n",
        "import pandas as pd\n",
        "def rank(l):\n",
        "  l1=l.copy()\n",
        "  l1.sort(reverse=True)\n",
        "  print(\"sorted\",l1)\n",
        "  rank=0\n",
        "  l3=[]               #removal of duplicates\n",
        "  r=[]                #rank \n",
        "  m=[]                #for count\n",
        "  r1=[]\n",
        "  for i in l1:\n",
        "    if i not in l3:\n",
        "      l3.append(i)\n",
        "  print(l3)\n",
        "  for e in l3:\n",
        "    cnt=l1.count(e)\n",
        "    m.append(cnt)\n",
        "    if(cnt==1):\n",
        "      r.append(rank+1)\n",
        "    else:\n",
        "      sum=0\n",
        "      for i in range(rank+1,rank+cnt+1):\n",
        "        sum=sum+i\n",
        "      r.append(sum/cnt)\n",
        "    rank=rank+cnt\n",
        "  for i in l:\n",
        "    for j in range(len(l3)):\n",
        "      if(i==l3[j]):\n",
        "        r1.append(r[j])\n",
        "  return r1,m\n",
        "def corelation(n):\n",
        "  return (n*(n**2-1))/12\n",
        "x=[115,109,112,87,98,120,98,100,98,118]\n",
        "y=[75,73,85,70,76,82,65,73,68,80]\n",
        "n=len(x)\n",
        "rx,m1=rank(x)\n",
        "ry,m2=rank(y)\n",
        "cf=0\n",
        "for x in m1:\n",
        "  if(x!=1):\n",
        "    cf=cf+corelation(x)\n",
        "for x in m2:\n",
        "  if(x!=1):\n",
        "    cf=cf+corelation(x)\n",
        "d2=[]\n",
        "for i in range(n):\n",
        "  d2.append((rx[i]-ry[i])**2)\n",
        "sd2=sum(d2)+cf\n",
        "row=1-((6*sd2)/(n*(n**2-1)))\n",
        "print(\"corelation coefficient is : \",row)"
      ]
    },
    {
      "cell_type": "code",
      "execution_count": null,
      "metadata": {
        "colab": {
          "base_uri": "https://localhost:8080/"
        },
        "id": "htTniG_QtY55",
        "outputId": "e0161c22-9980-4ae5-eb42-e174a715fe4b"
      },
      "outputs": [
        {
          "name": "stdout",
          "output_type": "stream",
          "text": [
            "0\n"
          ]
        }
      ],
      "source": [
        "l=[1,2,3,4,1,5,6,1]\n",
        "print(l.index(1))"
      ]
    },
    {
      "cell_type": "markdown",
      "metadata": {
        "id": "ZGHyNbYssaYN"
      },
      "source": [
        "**ANOVA ONE WAY CLASSIFICATION**"
      ]
    },
    {
      "cell_type": "code",
      "execution_count": null,
      "metadata": {
        "colab": {
          "base_uri": "https://localhost:8080/"
        },
        "id": "Gq1Asev68-Ai",
        "outputId": "c183dbbd-880d-4e98-ceb5-5093689c0f99"
      },
      "outputs": [
        {
          "name": "stdout",
          "output_type": "stream",
          "text": [
            "F value is: 50.625\n",
            "table value is :  3.8852938346523933\n"
          ]
        }
      ],
      "source": [
        "import scipy.stats as s\n",
        "la=[13,10,8,11,8]\n",
        "lb=[13,11,14,14]\n",
        "lc=[4,1,3,4,2,4]\n",
        "l=la+lb+lc\n",
        "N=len(l)\n",
        "k=3\n",
        "los=0.05\n",
        "rss=0\n",
        "for i in range(len(l)):\n",
        "  rss=rss+(l[i]**2)\n",
        "ti=[]\n",
        "tn=[] #ti^2/ni\n",
        "a1=sum(la)\n",
        "ti.append(a1)\n",
        "tn.append((a1**2)/len(la))\n",
        "a2=sum(lb)\n",
        "ti.append(a2)\n",
        "tn.append(a2**2/len(lb))\n",
        "a3=sum(lc)\n",
        "ti.append(a3)\n",
        "tn.append(a3**2/len(lc))\n",
        "G=sum(ti)\n",
        "stn=sum(tn)\n",
        "cf=(G**2)/N\n",
        "sst=rss-cf\n",
        "sstr=stn-cf\n",
        "sse=sst-sstr\n",
        "msstr=sstr/(k-1)\n",
        "msse=sse/(N-k)\n",
        "F=msstr/msse\n",
        "print(\"F value is:\",F)\n",
        "tab=s.f.ppf(1-los,k-1,N-k)\n",
        "print(\"table value is : \",tab)"
      ]
    },
    {
      "cell_type": "markdown",
      "metadata": {
        "id": "xZdbktl3sz8h"
      },
      "source": [
        "**ANOVA TWO WAY CLASSIFICATION**"
      ]
    },
    {
      "cell_type": "code",
      "execution_count": null,
      "metadata": {
        "colab": {
          "base_uri": "https://localhost:8080/"
        },
        "id": "kIEDgR3Hs6PN",
        "outputId": "e9f1d603-3811-4ac3-8365-636fe67096aa"
      },
      "outputs": [
        {
          "name": "stdout",
          "output_type": "stream",
          "text": [
            "Ftr value is :  1.9749708963913033\n",
            "Fb value is :  20.57206012378406\n",
            "table value of Ftr :  3.490294819497605\n",
            "table value of Fb :  3.259166726901249\n"
          ]
        }
      ],
      "source": [
        "import scipy.stats as s1\n",
        "f1=[75,73,59,69,84]\n",
        "f2=[83,72,56,70,92]\n",
        "f3=[86,61,53,72,88]\n",
        "f4=[73,67,62,79,95]\n",
        "ff=f1+f2+f3+f4\n",
        "N=len(ff)\n",
        "h=len(f1) #length of each list\n",
        "k=4 #no.of lists\n",
        "los=0.05\n",
        "G=sum(ff) #sum of ti\n",
        "sti2=(sum(f1))**2+(sum(f2))**2+(sum(f3))**2+(sum(f4))**2\n",
        "l=[]\n",
        "l.extend([f1,f2,f3,f4])\n",
        "bj2=[]\n",
        "for i in range(h):\n",
        "  s=0\n",
        "  for j in range(k):\n",
        "    s=s+l[j][i]\n",
        "  bj2.append(s**2)\n",
        "sbj2=sum(bj2) # sum of bj2\n",
        "rss=0\n",
        "for i in range(N):\n",
        "  rss=rss+((ff[i])**2)\n",
        "cf=(G**2)/(k*h)\n",
        "sst=rss-cf\n",
        "sstr=((1/h)*sti2)-cf\n",
        "ssb=((1/k)*sbj2)-cf\n",
        "sse=sst-sstr-ssb\n",
        "msstr=sstr/(k-1)\n",
        "mssb=ssb/(h-1)\n",
        "msse=sse/((k-1)*(h-1))\n",
        "Ftr=msstr/msse\n",
        "Fb=mssb/msse\n",
        "if(Ftr<1):\n",
        "  Ftr=msse/msstr\n",
        "if(Fb<1):\n",
        "  Fb=msse/mssb\n",
        "print(\"Ftr value is : \",Ftr)\n",
        "print(\"Fb value is : \",Fb)\n",
        "tab_Ftr= s1.f.ppf(1-los,k-1,((k-1)*(h-1)))\n",
        "tab_Fb= s1.f.ppf(1-los,h-1,((k-1)*(h-1)))\n",
        "print(\"table value of Ftr : \",tab_Ftr)\n",
        "print(\"table value of Fb : \",tab_Fb)"
      ]
    },
    {
      "cell_type": "markdown",
      "metadata": {
        "id": "eMbWrrUILkgB"
      },
      "source": [
        "**Transpose of a matrix**"
      ]
    },
    {
      "cell_type": "code",
      "execution_count": null,
      "metadata": {
        "colab": {
          "base_uri": "https://localhost:8080/"
        },
        "id": "SX_gvyWWLweY",
        "outputId": "f4a5b2e3-0b9a-40e0-e6d6-8bd8d7ba6047"
      },
      "outputs": [
        {
          "name": "stdout",
          "output_type": "stream",
          "text": [
            "[[1, 1, 1, 1, 1, 1, 1, 1, 1, 1, 1, 1], [9, 8, 7, 14, 12, 10, 7, 4, 6, 5, 7, 6], [62, 58, 64, 60, 63, 57, 55, 56, 59, 61, 57, 60]]\n"
          ]
        }
      ],
      "source": [
        "import numpy as np\n",
        "l=[[1,9,62],[1,8,58],[1,7,64],[1,14,60],[1,12,63],[1,10,57],[1,7,55],[1,4,56],[1,6,59],[1,5,61],[1,7,57],[1,6,60]]\n",
        "result=[[l[j][i] for j in range(len(l))] for i in range(len(l[0]))]\n",
        "print(result)"
      ]
    },
    {
      "cell_type": "markdown",
      "metadata": {
        "id": "SxfiC3OhTDMd"
      },
      "source": [
        "**MULTIPLICATION OF TWO MATRICES**"
      ]
    },
    {
      "cell_type": "code",
      "execution_count": null,
      "metadata": {
        "colab": {
          "base_uri": "https://localhost:8080/",
          "height": 224
        },
        "id": "xtiHhwGXTChG",
        "outputId": "38df3c54-eb57-427e-c41f-eaa8bfe90533"
      },
      "outputs": [
        {
          "output_type": "error",
          "ename": "IndexError",
          "evalue": "ignored",
          "traceback": [
            "\u001b[0;31m---------------------------------------------------------------------------\u001b[0m",
            "\u001b[0;31mIndexError\u001b[0m                                Traceback (most recent call last)",
            "\u001b[0;32m<ipython-input-6-153b46fa8255>\u001b[0m in \u001b[0;36m<module>\u001b[0;34m\u001b[0m\n\u001b[1;32m      9\u001b[0m   \u001b[0;32mfor\u001b[0m \u001b[0mj\u001b[0m \u001b[0;32min\u001b[0m \u001b[0mrange\u001b[0m\u001b[0;34m(\u001b[0m\u001b[0mn2\u001b[0m\u001b[0;34m)\u001b[0m\u001b[0;34m:\u001b[0m\u001b[0;34m\u001b[0m\u001b[0;34m\u001b[0m\u001b[0m\n\u001b[1;32m     10\u001b[0m     \u001b[0;32mfor\u001b[0m \u001b[0mk\u001b[0m \u001b[0;32min\u001b[0m \u001b[0mrange\u001b[0m\u001b[0;34m(\u001b[0m\u001b[0mm2\u001b[0m\u001b[0;34m)\u001b[0m\u001b[0;34m:\u001b[0m\u001b[0;34m\u001b[0m\u001b[0;34m\u001b[0m\u001b[0m\n\u001b[0;32m---> 11\u001b[0;31m       \u001b[0ml\u001b[0m\u001b[0;34m[\u001b[0m\u001b[0mi\u001b[0m\u001b[0;34m]\u001b[0m\u001b[0;34m[\u001b[0m\u001b[0mj\u001b[0m\u001b[0;34m]\u001b[0m\u001b[0;34m=\u001b[0m\u001b[0ml\u001b[0m\u001b[0;34m[\u001b[0m\u001b[0mi\u001b[0m\u001b[0;34m]\u001b[0m\u001b[0;34m[\u001b[0m\u001b[0mj\u001b[0m\u001b[0;34m]\u001b[0m\u001b[0;34m+\u001b[0m\u001b[0ml1\u001b[0m\u001b[0;34m[\u001b[0m\u001b[0mi\u001b[0m\u001b[0;34m]\u001b[0m\u001b[0;34m[\u001b[0m\u001b[0mk\u001b[0m\u001b[0;34m]\u001b[0m\u001b[0;34m*\u001b[0m\u001b[0ml2\u001b[0m\u001b[0;34m[\u001b[0m\u001b[0mk\u001b[0m\u001b[0;34m]\u001b[0m\u001b[0;34m[\u001b[0m\u001b[0mj\u001b[0m\u001b[0;34m]\u001b[0m\u001b[0;34m\u001b[0m\u001b[0;34m\u001b[0m\u001b[0m\n\u001b[0m\u001b[1;32m     12\u001b[0m \u001b[0mprint\u001b[0m\u001b[0;34m(\u001b[0m\u001b[0ml\u001b[0m\u001b[0;34m)\u001b[0m\u001b[0;34m\u001b[0m\u001b[0;34m\u001b[0m\u001b[0m\n",
            "\u001b[0;31mIndexError\u001b[0m: list index out of range"
          ]
        }
      ],
      "source": [
        "l1=[[5,40,10],[40,360,86],[10,86,30]]\n",
        "l2=[[30],[260],[53]]\n",
        "m1=len(l1)\n",
        "m2=len(l2)\n",
        "n1=len(l1[0])\n",
        "n2=len(l2[0])\n",
        "l=[[0 for i in range(m1)] for j in range(n2)]\n",
        "for i in range(m1):\n",
        "  for j in range(n2):\n",
        "    for k in range(m2):\n",
        "      l[i][j]=l[i][j]+l1[i][k]*l2[k][j]\n",
        "print(l)"
      ]
    },
    {
      "cell_type": "markdown",
      "metadata": {
        "id": "UxfMgCfjXw-U"
      },
      "source": [
        "**inverse of a matrix**"
      ]
    },
    {
      "cell_type": "code",
      "execution_count": null,
      "metadata": {
        "id": "G3Qyt4IQX1Vz"
      },
      "outputs": [],
      "source": [
        "l=[[12,95,712],[95,845,5663],[712,5663,42334]]\n"
      ]
    },
    {
      "cell_type": "markdown",
      "metadata": {
        "id": "TgKDPZQ2YNJr"
      },
      "source": [
        "**determinant of matrix**"
      ]
    },
    {
      "cell_type": "code",
      "execution_count": null,
      "metadata": {
        "colab": {
          "base_uri": "https://localhost:8080/"
        },
        "id": "V2utw0lAYRXb",
        "outputId": "05076f28-e3ea-41ab-91ab-528c934840ee"
      },
      "outputs": [
        {
          "name": "stdout",
          "output_type": "stream",
          "text": [
            "90542\n"
          ]
        }
      ],
      "source": [
        "l=[[12,95,712],[95,845,5663],[712,5663,42334]]\n",
        "m=len(l)      #no.of rows\n",
        "n=len(l[0])   #no.of columns\n",
        "det=0\n",
        "if(m==2):\n",
        "  det=(l[0][0]*l[1][1])-(l[0][1]*l[1][0])\n",
        "  print(det)\n",
        "if(m==3):\n",
        "    det=(l[0][0]*((l[1][1]*l[2][2])-(l[1][2]*l[2][1])))-(l[0][1]*((l[1][0]*l[2][2])-(l[2][0]*l[1][2])))+(l[0][2]*((l[1][0]*l[2][1])-(l[1][1]*l[2][0])))\n",
        "    print(det)"
      ]
    },
    {
      "cell_type": "markdown",
      "metadata": {
        "id": "VltSQ1ZyWFZl"
      },
      "source": [
        "**Multi-Linear Regression**"
      ]
    },
    {
      "cell_type": "code",
      "execution_count": null,
      "metadata": {
        "colab": {
          "base_uri": "https://localhost:8080/"
        },
        "id": "NZljo40qQgdp",
        "outputId": "b917bca4-f1b1-42b8-9fb4-4ce4b48a295f"
      },
      "outputs": [
        {
          "name": "stdout",
          "output_type": "stream",
          "text": [
            "The linear fit of given data is :\n",
            "y =  [133.46048243]  +  [-1.24850346] x1  +  [-0.35100837] x2\n",
            "coffecient of determination : R^2  =  [0.54152791]\n",
            "model is not a good fit using R^2\n",
            "using anova table : \n",
            "f calculated value :  [5.31521044]\n",
            "f table value :  4.25649472909375\n",
            "model is a good fit using Anova\n",
            "contributes to model\n",
            "contributes to model\n",
            "NOT contributes to the model\n"
          ]
        }
      ],
      "source": [
        "import numpy as np\n",
        "import scipy.stats as s\n",
        "import math\n",
        "y=np.array([[100],[110],[105],[94],[95],[99],[104],[108],[105],[98],[105],[110]])\n",
        "x=np.array([[1,9,62],[1,8,58],[1,7,64],[1,14,60],[1,12,63],[1,10,57],[1,7,55],[1,4,56],[1,6,59],[1,5,61],[1,7,57],[1,6,60]])\n",
        "n=12 #no.of observations\n",
        "p=3 #no.of variables\n",
        "los=0.05\n",
        "\n",
        "#function for transpose of a matrix\n",
        "\n",
        "def transpose(l):\n",
        "  result=[[l[j][i] for j in range(len(l))] for i in range(len(l[0]))]\n",
        "  return result\n",
        "\n",
        "# xT=np.transpose(x) #transpose of matrix-x\n",
        "xT=transpose(x)\n",
        "\n",
        "xTx=np.dot(xT,x)  #multiplication of x-transpose & x\n",
        "inv=np.linalg.inv(xTx) #inverse of xTx\n",
        "xTy=np.dot(xT,y) #multiplication of xTy\n",
        "B=np.dot(inv,xTy) #B^ matrix\n",
        "B0=B[0]\n",
        "B1=B[1]\n",
        "B2=B[2]\n",
        "print(\"The linear fit of given data is :\")\n",
        "print(\"y = \",B0,\" + \",B1,\"x1\",\" + \",B2,\"x2\")\n",
        "ycap=[]\n",
        "for i in range(len(x)):\n",
        "  ycap.append(B0+(B1*x[i][1])+(B2*x[i][2]))\n",
        "#print(ycap)\n",
        "e=[]\n",
        "for i in range(len(y)):\n",
        "  e.append(y[i]-ycap[i])\n",
        "#print(e)\n",
        "ybar=sum(y)/len(y)\n",
        "#print(ybar)\n",
        "sse=0\n",
        "sst=0\n",
        "for i in range(len(e)):\n",
        "  sse=sse+(e[i]**2)\n",
        "#print(sse)\n",
        "for i in range(len(y)):\n",
        "  sst=sst+(y[i]-ybar)**2\n",
        "#print(sst)\n",
        "ssr=sst-sse\n",
        "R2=ssr/sst\n",
        "print(\"coffecient of determination : R^2  = \",R2)\n",
        "if(R2>0.90):\n",
        "  print(\"model is a good fit\")\n",
        "else:\n",
        "  print(\"model is not a good fit using R^2\")\n",
        "\n",
        "#Using Anova Table\n",
        "\n",
        "mssr=ssr/(p-1)\n",
        "msse=sse/(n-p)\n",
        "f=mssr/msse\n",
        "if(f<1):\n",
        "  f=msse/mssr\n",
        "f_table=s.f.ppf(1-los,p-1,n-p)\n",
        "print(\"using anova table : \")\n",
        "print(\"f calculated value : \",f)\n",
        "print(\"f table value : \",f_table)\n",
        "if(f>f_table):\n",
        "  print(\"model is a good fit using Anova\")\n",
        "else:\n",
        "  print(\"model is NOT a good fit using Anova\")\n",
        "\n",
        "#Test Of Individual Parameters\n",
        "\n",
        "for i in range(len(B)):\n",
        "  se=0\n",
        "  se=math.sqrt(msse*inv[i][i])\n",
        "  t=B[i]/se\n",
        "  t_table=s.t.ppf(1-los/2,n-p)\n",
        "  if(abs(t)>t_table):\n",
        "    print(\"contributes to model\")\n",
        "  else:\n",
        "    print(\"NOT contributes to the model\")"
      ]
    },
    {
      "cell_type": "markdown",
      "metadata": {
        "id": "kRV6JR0eYGUl"
      },
      "source": [
        "**MULTI-VARIATE LINEAR REGRESSION**"
      ]
    },
    {
      "cell_type": "code",
      "execution_count": null,
      "metadata": {
        "colab": {
          "base_uri": "https://localhost:8080/"
        },
        "id": "8nAsu5LSZx86",
        "outputId": "578b4df7-b730-4773-9604-a0cc22085847"
      },
      "outputs": [
        {
          "name": "stdout",
          "output_type": "stream",
          "text": [
            "[10.896995240655695]+[-0.04494028839277985]x1+[-0.08770358705352718]x2+[5.035459723745083]x3\n",
            "[91.09719893469219]+[-0.06400723277217324]x1+[-0.2943736719624299]x2+[27.83530349088781]x3\n",
            "R1_2 - model is a good fit\n",
            "R2_2 - model is not a good fit\n",
            "model is a good fit using Anova\n",
            "model is a good fit using Anova\n",
            "for y1.................\n",
            "contributes to model\n",
            "NOT contributes to the model\n",
            "NOT contributes to the model\n",
            "contributes to model\n",
            "for y2..................\n",
            "contributes to model\n",
            "NOT contributes to the model\n",
            "NOT contributes to the model\n",
            "contributes to model\n"
          ]
        }
      ],
      "source": [
        "import numpy as np\n",
        "import scipy.stats as s\n",
        "import math\n",
        "y=np.array([[10,100],[12,110],[11,105],[9,94],[9,95],[10,99],[11,104],[12,108],[11,105],[10,98],[11,103],[12,110]])\n",
        "x=np.array([[1,9,62,1.0],[1,8,58,1.3],[1,7,64,1.2],[1,14,60,0.8],[1,12,63,0.8],[1,10,57,0.9],[1,7,55,1.0],[1,4,56,1.2],[1,6,59,1.1],[1,5,61,1.0],[1,7,57,1.2],[1,6,60,1.2]])\n",
        "\n",
        "def transpose(l):\n",
        "  result=[[l[j][i] for j in range(len(l))] for i in range(len(l[0]))]\n",
        "  return result\n",
        "\n",
        "b=np.dot(np.linalg.inv(np.dot(transpose(x),x)),np.dot(transpose(x),y))\n",
        "y1=[]\n",
        "y2=[]\n",
        "for i in range(len(b)):\n",
        "  for j in range(len(b[0])):\n",
        "    if(j==0):\n",
        "      y1.append(b[i][j])\n",
        "    else:\n",
        "      y2.append(b[i][j])\n",
        "print('[{}]+[{}]x1+[{}]x2+[{}]x3'.format(y1[0],y1[1],y1[2],y1[3]))\n",
        "print('[{}]+[{}]x1+[{}]x2+[{}]x3'.format(y2[0],y2[1],y2[2],y2[3]))\n",
        "\n",
        "y1cap=[]\n",
        "y2cap=[]\n",
        "e1=[]\n",
        "e2=[]\n",
        "for i in range(len(x)):\n",
        "  y1cap.append(y1[0]+(y1[1]*x[i][1])+(y1[2]*x[i][2])+(y1[3]*x[i][3]))\n",
        "for i in range(len(x)):\n",
        "  y2cap.append(y2[0]+(y2[1]*x[i][1])+(y2[2]*x[i][2])+(y2[3]*x[i][3]))\n",
        "# print(y1cap)\n",
        "# print(y2cap)\n",
        "\n",
        "for i in range(len(y)):\n",
        "  for j in range(len(y[0])):\n",
        "    if(j==0):\n",
        "      e1.append(y[i][j]-y1cap[i])\n",
        "    else:\n",
        "      e2.append(y[i][j]-y2cap[i])\n",
        "# print(e1)\n",
        "# print(e2)\n",
        "\n",
        "s1=0\n",
        "s2=0\n",
        "sse1=0\n",
        "sse2=0\n",
        "sst1=0\n",
        "sst2=0\n",
        "\n",
        "for i in range(len(y)):\n",
        "  s1=s1+y[i][0]\n",
        "y1bar=s1/len(y)\n",
        "for i in range(len(y)):\n",
        "  s2=s2+y[i][1]\n",
        "y2bar=s2/len(y)\n",
        "# print(y1bar)\n",
        "# print(y2bar)\n",
        "\n",
        "for i in range(len(e1)):\n",
        "  sse1=sse1+(e1[i]**2)\n",
        "for i in range(len(e2)):\n",
        "  sse2=sse2+(e2[i]**2)\n",
        "# print(sse1)\n",
        "# print(sse2)\n",
        "\n",
        "for i in range(len(y)):\n",
        "  sst1=sst1+(y[i][0]-y1bar)**2\n",
        "for i in range(len(y)):\n",
        "  sst2=sst2+(y[i][1]-y2bar)**2\n",
        "# print(sst1)\n",
        "# print(sst2)\n",
        "\n",
        "ssr1=sst1-sse1\n",
        "ssr2=sst2-sse2\n",
        "# print(ssr1)\n",
        "# print(ssr2)\n",
        "\n",
        "R1_2=ssr1/sst1\n",
        "R2_2=ssr2/sst2\n",
        "# print(R1_2)\n",
        "# print(R2_2)\n",
        "\n",
        "if(R1_2>0.90):\n",
        "  print(\"R1_2 - model is a good fit\")\n",
        "else:\n",
        "  print(\"R1_2 - model is not a good fit\")\n",
        "if(R2_2>0.90):\n",
        "  print(\"R2_2 - model is a good fit\")\n",
        "else:\n",
        "  print(\"R2_2 - model is not a good fit\")\n",
        "\n",
        "#ANOVA TABLE\n",
        "n=12  #no.of observations\n",
        "p=4   #no.of variables\n",
        "los=0.05\n",
        "mssr1=ssr1/(p-1)\n",
        "mssr2=ssr2/(p-1)\n",
        "msse1=sse1/(n-p)\n",
        "msse2=sse2/(n-p)\n",
        "f1=mssr1/msse1\n",
        "f2=mssr2/msse2\n",
        "if(f1<0):\n",
        "  f1=msse1/mssr1\n",
        "if(f2<0):\n",
        "  f2=msse2/mssr2\n",
        "f1_table=s.f.ppf(1-los,p-1,n-p)\n",
        "f2_table=s.f.ppf(1-los,p-1,n-p)\n",
        "if(f1>f1_table):\n",
        "  print(\"model is a good fit using Anova\")\n",
        "else:\n",
        "  print(\"model is NOT a good fit using Anova\")\n",
        "if(f2>f2_table):\n",
        "  print(\"model is a good fit using Anova\")\n",
        "else:\n",
        "  print(\"model is NOT a good fit using Anova\")\n",
        "\n",
        "#TEST OF INDIVIDUAL PARAMETERS\n",
        "c=np.linalg.inv(np.dot(transpose(x),x))\n",
        "print(\"for y1.................\")\n",
        "for i in range(len(c)):\n",
        "  se=0\n",
        "  se=math.sqrt(msse1*c[i][i])\n",
        "  t=y1[i]/se\n",
        "  t_table=s.t.ppf(1-los/2,n-p)\n",
        "  if(abs(t)>t_table):\n",
        "    print(\"contributes to model\")\n",
        "  else:\n",
        "    print(\"NOT contributes to the model\")\n",
        "\n",
        "print(\"for y2..................\")\n",
        "for i in range(len(c)):\n",
        "  se=0\n",
        "  se=math.sqrt(msse2*c[i][i])\n",
        "  t=y2[i]/se\n",
        "  t_table=s.t.ppf(1-los/2,n-p)\n",
        "  if(abs(t)>t_table):\n",
        "    print(\"contributes to model\")\n",
        "  else:\n",
        "    print(\"NOT contributes to the model\")"
      ]
    },
    {
      "cell_type": "markdown",
      "metadata": {
        "id": "2xaX3ORIqG4d"
      },
      "source": [
        "**MONOVA ONE-WAY CLASSIFICATION**"
      ]
    },
    {
      "cell_type": "code",
      "execution_count": null,
      "metadata": {
        "colab": {
          "base_uri": "https://localhost:8080/"
        },
        "id": "zEHjToSdxOUg",
        "outputId": "8c17e09d-a169-4e1e-9126-d70f775bca78"
      },
      "outputs": [
        {
          "name": "stdout",
          "output_type": "stream",
          "text": [
            "f calculated is :  8.198859563778374\n",
            "f_tab is :  5.987377607273699\n",
            "we reject H0\n"
          ]
        }
      ],
      "source": [
        "import math\n",
        "import scipy.stats as s\n",
        "t1=[[9,3],[6,2],[9,7]]\n",
        "t2=[[0,4],[2,0]]\n",
        "t3=[[3,8],[1,9],[2,7]]\n",
        "yi=[]\n",
        "y=[]\n",
        "l1=[]                                   #for all upper values\n",
        "l2=[]                                   #for all lower values\n",
        "m=[]\n",
        "n=[]\n",
        "for i in range(len(t1)):\n",
        "  m.append(t1[i][0])\n",
        "l1.append(m)\n",
        "m=[]\n",
        "for i in range(len(t1)):\n",
        "  n.append(t1[i][1])\n",
        "l2.append(n)\n",
        "n=[]\n",
        "for i in range(len(t2)):\n",
        "  m.append(t2[i][0])\n",
        "l1.append(m)\n",
        "m=[]\n",
        "for i in range(len(t2)):\n",
        "  n.append(t2[i][1])\n",
        "l2.append(n)\n",
        "n=[]\n",
        "for i in range(len(t3)):\n",
        "  m.append(t3[i][0])\n",
        "l1.append(m)\n",
        "del(m)                                #deleting list m\n",
        "for i in range(len(t3)):\n",
        "  n.append(t3[i][1])\n",
        "l2.append(n)\n",
        "del(n)                                #deleting list n\n",
        "yi.append([sum(l1[0])/len(l1[0]),sum(l2[0])/len(l2[0])])\n",
        "yi.append([sum(l1[1])/len(l1[1]),sum(l2[1])/len(l2[1])])\n",
        "yi.append([sum(l1[2])/len(l1[2]),sum(l2[2])/len(l2[2])])\n",
        "y.append((sum(l1[0])+sum(l1[1])+sum(l1[2]))/(len(l1[0])+len(l1[1])+len(l1[2])))\n",
        "y.append((sum(l2[0])+sum(l2[1])+sum(l2[2]))/(len(l2[0])+len(l2[1])+len(l2[2])))\n",
        "# print(yi)\n",
        "# print(y)\n",
        "# print(l1)\n",
        "# print(l2)\n",
        "\n",
        "sse1=sst1=ssr1=sse2=sst2=ssr2=sse=sst=ssr=0\n",
        "\n",
        "#for y1\n",
        "for i in range(len(l1)):\n",
        "  for j in range(len(l1[i])):\n",
        "    sse1=sse1+(l1[i][j]-yi[i][0])**2\n",
        "    sst1=sst1+(l1[i][j]-y[0])**2\n",
        "ssr1=sst1-sse1\n",
        "\n",
        "#for y2\n",
        "for i in range(len(l2)):\n",
        "  for j in range(len(l2[i])):\n",
        "    sse2=sse2+(l2[i][j]-yi[i][1])**2\n",
        "    sst2=sst2+(l2[i][j]-y[1])**2\n",
        "ssr2=sst2-sse2\n",
        "\n",
        "#for y1 and y2\n",
        "for i in range(len(l1)):\n",
        "  for j in range(len(l1[i])):\n",
        "    sse=sse+((l1[i][j]*l2[i][j])-(yi[i][0]*yi[i][1]))\n",
        "    sst=sst+((l1[i][j]*l2[i][j])-y[0]*y[1])\n",
        "ssr=sst-sse\n",
        "# print(sse)\n",
        "# print(sst)\n",
        "# print(ssr)\n",
        "\n",
        "#monova one way classification table\n",
        "k=3                                     #no.of treatments\n",
        "n=8                                     #no.of groups\n",
        "p=2\n",
        "los=0.05                                     #no.of observations in each group\n",
        "b=(ssr1*ssr2)-ssr**2\n",
        "w=(sse1*sse2)-sse**2\n",
        "t=(sst1*sst2)-sst**2\n",
        "lam=w/t                                #lambda\n",
        "f=((n-k-1)/(k-1))*((1-math.sqrt(lam))/math.sqrt(lam))\n",
        "f_tab=s.f.ppf(1-los,p-1,n-p)\n",
        "print(\"f calculated is : \",f)\n",
        "print(\"f_tab is : \",f_tab)\n",
        "if(f>f_tab):\n",
        "  print(\"we reject H0\")\n",
        "else:\n",
        "  print(\"we accept H0\")"
      ]
    },
    {
      "cell_type": "markdown",
      "metadata": {
        "id": "lktXXji6nDjO"
      },
      "source": [
        "**LINEAR DISCRIMINANT ANALYSIS**"
      ]
    },
    {
      "cell_type": "code",
      "execution_count": null,
      "metadata": {
        "colab": {
          "base_uri": "https://localhost:8080/"
        },
        "id": "V-D_vSZAnLA6",
        "outputId": "92c23fb5-fcb9-48f8-bd45-b37fdb201c84"
      },
      "outputs": [
        {
          "name": "stdout",
          "output_type": "stream",
          "text": [
            "1.7124377977741894\n",
            "observation [5 6] belongs to f1\n"
          ]
        }
      ],
      "source": [
        "import numpy as np\n",
        "import math\n",
        "xk=np.array([5,6])\n",
        "x1=np.array([[4,2],[2,4],[2,3],[3,6],[4,4]])\n",
        "x2=np.array([[9,10],[6,8],[9,5],[8,7],[10,8]])\n",
        "x3=np.concatenate((x1,x2),axis=0)\n",
        "u=[]\n",
        "c=np.zeros((2,2))\n",
        "xu=[[0 for i in range(2)]for j in range(len(x3))]\n",
        "x=y=0\n",
        "for i in range(len(x1)):\n",
        "  x=x+x1[i][0]\n",
        "  y=y+x1[i][1]\n",
        "u1=np.array([x/len(x1),y/len(x1)])\n",
        "x=y=0\n",
        "for i in range(len(x2)):\n",
        "  x=x+x2[i][0]\n",
        "  y=y+x2[i][1]\n",
        "u2=np.array([x/len(x2),y/len(x2)])\n",
        "x=y=0\n",
        "for i in range(len(x3)):\n",
        "  x=x+x3[i][0]\n",
        "  y=y+x3[i][1]\n",
        "u.append(x/len(x3))\n",
        "u.append(y/len(x3))\n",
        "x=y=0\n",
        "\n",
        "for i in range(len(x3)):\n",
        "  xu[i][0]=x3[i][0]-u[0]\n",
        "  xu[i][1]=x3[i][1]-u[1]\n",
        "#print(xu)\n",
        "\n",
        "for i in range(len(xu)):\n",
        "  x=x+(xu[i][0])**2\n",
        "  y=y+(xu[i][1])**2\n",
        "x=x/len(xu)\n",
        "y=y/len(xu)\n",
        "c[0][0]=x\n",
        "c[1][1]=y\n",
        "x=y=0\n",
        "\n",
        "for i in range(len(xu)):\n",
        "  x=x+(xu[i][0]*xu[i][1])\n",
        "x=x/len(xu)\n",
        "c[0][1]=c[1][0]=x\n",
        "\n",
        "c=np.linalg.inv(c)                        #inverse of c\n",
        "\n",
        "#Fishers linear discrimininant function is given by\n",
        "\n",
        "#for f1\n",
        "f1=np.dot(np.dot(u1,c),np.transpose(xk))-((1/2)*np.dot(u1,np.dot(c,np.transpose(u1))))+math.log(len(x1)/len(x3))\n",
        "\n",
        "#for f2\n",
        "f2=np.dot(np.dot(u2,c),np.transpose(xk))-((1/2)*np.dot(u2,np.dot(c,np.transpose(u2))))+math.log(len(x2)/len(x3))\n",
        "\n",
        "if(f1>f2):\n",
        "  print(\"observation\",xk,\"belongs to f1\")\n",
        "else:\n",
        "  print(\"observation\",xk,\"belongs to f2\")"
      ]
    },
    {
      "cell_type": "markdown",
      "metadata": {
        "id": "yVik4x9boQY1"
      },
      "source": [
        "**PRINCIPAL COMPONENT ANALYSIS**"
      ]
    },
    {
      "cell_type": "code",
      "execution_count": null,
      "metadata": {
        "colab": {
          "base_uri": "https://localhost:8080/"
        },
        "id": "8ol2Ic2wocwd",
        "outputId": "15ce31ee-c070-47f5-b860-890fe661756a"
      },
      "outputs": [
        {
          "output_type": "stream",
          "name": "stdout",
          "text": [
            "enter no.of variables:2\n",
            "enter list values : 2 1 0 -1\n",
            "enter list values : 4 3 1 0.5\n",
            "[3.26093826 0.03593674]\n",
            "[[-0.6135581  -0.78964958]\n",
            " [-0.78964958  0.6135581 ]]\n",
            "[[-4.38571451  0.87493326]\n",
            " [-2.98250683  1.05102473]\n",
            " [-0.78964958  0.6135581 ]\n",
            " [ 0.21873332  1.09642863]]\n"
          ]
        }
      ],
      "source": [
        "import numpy as np\n",
        "n=int(input(\"enter no.of variables:\")) #no.of rows in a matrix\n",
        "x=[]\n",
        "for i in range(n):\n",
        "  e=list(map(float, input(\"enter list values : \").split()))\n",
        "  x.append(e)\n",
        "x=np.array(x)\n",
        "x=np.transpose(x)\n",
        "# print(x)\n",
        "a=b=0\n",
        "# xu=np.array([[0 for i in range(n)]for j in range(len(x))])\n",
        "xu=[]\n",
        "for i in range(n):\n",
        "  for j in range(len(x)):\n",
        "    if(i==0):\n",
        "      a=a+x[j][i]\n",
        "    else:\n",
        "      b=b+x[j][i]\n",
        "a=a/len(x)\n",
        "b=b/len(x)\n",
        "for i in range(len(x)):\n",
        "  xu.append([x[i][0]-a,x[i][1]-b])\n",
        "c=[]\n",
        "a=b=f=0\n",
        "for i in range(len(xu)):\n",
        "  a=a+(xu[i][0])**2\n",
        "  b=b+(xu[i][1])**2\n",
        "  f=f+(xu[i][0]*xu[i][1])\n",
        "a=a/len(xu)\n",
        "b=b/len(xu)\n",
        "f=f/len(xu)\n",
        "c.append([a,f])\n",
        "c.append([f,b])\n",
        "# print(c)\n",
        "e_val,e_vec=np.linalg.eig(c)\n",
        "id=np.argsort(e_val)[::-1]\n",
        "e_val=e_val[id]\n",
        "e_vec=e_vec[:,id]\n",
        "print(e_val)\n",
        "print(e_vec)\n",
        "z=[]\n",
        "z1=[]\n",
        "z2=[]\n",
        "for i in range(len(x)):\n",
        "  z1.append((e_vec[0][0]*x[i][0])+(e_vec[1][0]*x[i][1]))\n",
        "  z2.append((e_vec[0][1]*x[i][0])+(e_vec[1][1]*x[i][1]))\n",
        "z.append(z1)\n",
        "z.append(z2)\n",
        "# print(e_val)\n",
        "# print(e_vec)\n",
        "z=np.transpose(z)\n",
        "print(z)"
      ]
    },
    {
      "cell_type": "code",
      "execution_count": null,
      "metadata": {
        "colab": {
          "base_uri": "https://localhost:8080/"
        },
        "id": "m4I49IGRxz1u",
        "outputId": "00e7e012-fe17-4dbb-f396-2687b9a6bf25"
      },
      "outputs": [
        {
          "output_type": "stream",
          "name": "stdout",
          "text": [
            "[[-4.385714512902951, -2.9825068329258744, -0.789649576474399, 0.21873331526547796], [0.8749332610619118, 1.0510247340336334, 0.6135581035026775, 1.0964286282257378]]\n"
          ]
        }
      ],
      "source": [
        "import numpy as np\n",
        "x=np.array([[2,4],[1,3],[0,1],[-1,0.5]])\n",
        "n=2\n",
        "a=b=0\n",
        "# xu=np.array([[0 for i in range(n)]for j in range(len(x))])\n",
        "xu=[]\n",
        "for i in range(n):\n",
        "  for j in range(len(x)):\n",
        "    if(i==0):\n",
        "      a=a+x[j][i]\n",
        "    else:\n",
        "      b=b+x[j][i]\n",
        "a=a/len(x)\n",
        "b=b/len(x)\n",
        "for i in range(len(x)):\n",
        "  xu.append([x[i][0]-a,x[i][1]-b])\n",
        "c=[]\n",
        "a=b=f=0\n",
        "for i in range(len(xu)):\n",
        "  a=a+(xu[i][0])**2\n",
        "  b=b+(xu[i][1])**2\n",
        "  f=f+(xu[i][0]*xu[i][1])\n",
        "a=a/len(xu)\n",
        "b=b/len(xu)\n",
        "f=f/len(xu)\n",
        "c.append([a,f])\n",
        "c.append([f,b])\n",
        "# print(c)\n",
        "e_val,e_vec=np.linalg.eig(c)\n",
        "id=np.argsort(e_val)[::-1]\n",
        "e_val=e_val[id]\n",
        "e_vec=e_vec[:,id]\n",
        "z=[]\n",
        "z1=[]\n",
        "z2=[]\n",
        "for i in range(len(x)):\n",
        "  z1.append((e_vec[0][0]*x[i][0])+(e_vec[1][0]*x[i][1]))\n",
        "  z2.append((e_vec[0][1]*x[i][0])+(e_vec[1][1]*x[i][1]))\n",
        "z.append(z1)\n",
        "z.append(z2)\n",
        "# print(e_val)\n",
        "# print(e_vec)\n",
        "print(z)"
      ]
    },
    {
      "cell_type": "markdown",
      "source": [
        "**FACTOR ANALYSIS**"
      ],
      "metadata": {
        "id": "oeabud0ThCqD"
      }
    },
    {
      "cell_type": "code",
      "source": [
        "import numpy as np\n",
        "import statistics as st\n",
        "import math\n",
        "f=[]\n",
        "n=int(input(\"Enter no.of variables : \"))\n",
        "for i in range(n):\n",
        "  f.append(list(map(float,input(\"enter list values : \").split())))\n",
        "u=[] #mean \n",
        "sd=[] #standard deviation \n",
        "a=[[0 for i in range(len(f))]for j in range(len(f[0]))] \n",
        "#print(a)\n",
        "\n",
        "#changing the signs\n",
        "def sign(f1):\n",
        "  for i in range(len(f1)):\n",
        "    l=f1[i]\n",
        "    cp=cn=0\n",
        "    for j in range(len(l)):\n",
        "      if(l[j]>0):\n",
        "        cp=cp+1\n",
        "      else:\n",
        "        cn=cn+1\n",
        "    if(cn>cp):\n",
        "      for j in range(len(l)):\n",
        "        l[j]=0-l[j]\n",
        "\n",
        "for i in range(len(f)):\n",
        "  u.append(sum(f[i])/len(f[i]))\n",
        "  sd.append(st.stdev(f[i]))\n",
        "#print(u)\n",
        "#print(sd)\n",
        "\n",
        "f=np.transpose(np.array(f))\n",
        "\n",
        "#print(f)\n",
        "\n",
        "#standardising the values\n",
        "for i in range(len(f[i])):\n",
        "  for j in range(len(f)):\n",
        "    a[j][i]=(f[j][i]-u[i])/sd[i]\n",
        "#print(a)\n",
        "\n",
        "c=np.array(np.dot(np.transpose(np.array(a)),np.array(a))/len(a))    #variance covariance matrix of a\n",
        "#print(c)\n",
        "\n",
        "e_val,e_vec=np.linalg.eig(c)\n",
        "#print(e_val)\n",
        "#print(e_vec)\n",
        "g=0\n",
        "f1=[[0 for i in range(len(e_val))]for j in range(len(e_val))]\n",
        "for i in range(len(e_val)):\n",
        "  for j in range(len(e_vec[0])):\n",
        "    f1[i][j]=(math.sqrt(e_val[i])*e_vec[j][i])\n",
        "#print(f1)\n",
        "\n",
        "sign(f1)\n",
        "del f1[0]\n",
        "f1=np.transpose(f1)\n",
        "#print(f1)\n",
        "th=math.pi/180\n",
        "t=[[math.cos(th),-(math.sin(th))],[math.sin(th),math.cos(th)]]\n",
        "#print(t)\n",
        "f2=np.dot(f1,t)\n",
        "sign(f2)\n",
        "print(f2)\n",
        "factor=['Finance','Marketing','Business Policy']\n",
        "for i in range(len(f2)):\n",
        "  for j in range(len(f2[i])-1):\n",
        "    if(f2[i][j]>f2[i][j+1]):\n",
        "      print(factor[i],'belongs to Second factor(F2)')\n",
        "    else:\n",
        "      print(factor[i],'belongs to First factor(F1)')"
      ],
      "metadata": {
        "id": "4Ih52DodhL7G",
        "colab": {
          "base_uri": "https://localhost:8080/"
        },
        "outputId": "af891d9a-48f0-4da8-f1f0-31ce426362b3"
      },
      "execution_count": null,
      "outputs": [
        {
          "output_type": "stream",
          "name": "stdout",
          "text": [
            "Enter no.of variables : 3\n",
            "enter list values : 3 7 10 3 10\n",
            "enter list values : 6 3 9 9 6\n",
            "enter list values : 5 3 8 7 5\n",
            "[[ 0.89431808  0.01111144]\n",
            " [-0.05739271  0.89031328]\n",
            " [ 0.06150967  0.89002931]]\n",
            "Finance belongs to Second factor(F2)\n",
            "Marketing belongs to First factor(F1)\n",
            "Business Policy belongs to First factor(F1)\n"
          ]
        }
      ]
    },
    {
      "cell_type": "code",
      "source": [
        "import numpy as np\n",
        "import statistics as st\n",
        "import math\n",
        "f=[[3.0, 7.0, 10.0, 3.0, 10.0], [6.0, 3.0, 9.0, 9.0, 6.0], [5.0, 3.0, 8.0, 7.0, 5.0]]\n",
        "u=[] #mean \n",
        "sd=[] #standard deviation \n",
        "a=[[0 for i in range(len(f))]for j in range(len(f[0]))] \n",
        "#print(a)\n",
        "\n",
        "#changing the signs\n",
        "def sign(f1):\n",
        "  for i in range(len(f1)):\n",
        "    l=f1[i]\n",
        "    cp=cn=0\n",
        "    for j in range(len(l)):\n",
        "      if(l[j]>0):\n",
        "        cp=cp+1\n",
        "      else:\n",
        "        cn=cn+1\n",
        "    if(cn>cp):\n",
        "      for j in range(len(l)):\n",
        "        l[j]=0-l[j]\n",
        "\n",
        "for i in range(len(f)):\n",
        "  u.append(sum(f[i])/len(f[i]))\n",
        "  sd.append(st.stdev(f[i]))\n",
        "#print(u)\n",
        "#print(sd)\n",
        "\n",
        "f=np.transpose(np.array(f))\n",
        "\n",
        "#print(f)\n",
        "\n",
        "#standardising the values\n",
        "for i in range(len(f[i])):\n",
        "  for j in range(len(f)):\n",
        "    a[j][i]=(f[j][i]-u[i])/sd[i]\n",
        "#print(a)\n",
        "\n",
        "c=np.array(np.dot(np.transpose(np.array(a)),np.array(a))/len(a))    #variance covariance matrix of a\n",
        "#print(c)\n",
        "\n",
        "e_val,e_vec=np.linalg.eig(c)\n",
        "#print(e_val)\n",
        "#print(e_vec)\n",
        "g=0\n",
        "f1=[[0 for i in range(len(e_val))]for j in range(len(e_val))]\n",
        "for i in range(len(e_val)):\n",
        "  for j in range(len(e_vec[0])):\n",
        "    f1[i][j]=(math.sqrt(e_val[i])*e_vec[j][i])\n",
        "#print(f1)\n",
        "\n",
        "sign(f1)\n",
        "del f1[0]\n",
        "f1=np.transpose(f1)\n",
        "#print(f1)\n",
        "th=math.pi/180\n",
        "t=[[math.cos(th),-(math.sin(th))],[math.sin(th),math.cos(th)]]\n",
        "#print(t)\n",
        "f2=np.dot(f1,t)\n",
        "sign(f2)\n",
        "print(f2)\n",
        "factor=['Finance','Marketing','Business Policy']\n",
        "for i in range(len(f2)):\n",
        "  for j in range(len(f2[i])-1):\n",
        "    if(f2[i][j]>f2[i][j+1]):\n",
        "      print(factor[i],'belongs to Second factor(F1)')\n",
        "    else:\n",
        "      print(factor[i],'belongs to First factor(F2)')"
      ],
      "metadata": {
        "colab": {
          "base_uri": "https://localhost:8080/"
        },
        "id": "brGIYXzpt2Kf",
        "outputId": "28eabc8e-ec4b-43e4-fd12-26e9380dc99b"
      },
      "execution_count": null,
      "outputs": [
        {
          "output_type": "stream",
          "name": "stdout",
          "text": [
            "[[ 0.89431808  0.01111144]\n",
            " [-0.05739271  0.89031328]\n",
            " [ 0.06150967  0.89002931]]\n",
            "Finance belongs to Second factor(F1)\n",
            "Marketing belongs to First factor(F2)\n",
            "Business Policy belongs to First factor(F2)\n"
          ]
        }
      ]
    },
    {
      "cell_type": "code",
      "source": [
        "def multi(a,b):\n",
        "    m=len(a)\n",
        "    n=len(b[0])\n",
        "    r=[[0 for i in range(m)]for j in range(n)]\n",
        "    for i in range(m):\n",
        "        for j in range(n):\n",
        "            for k in range():\n",
        "                r[i][j]+=a[i][k]*b[k][j]\n",
        "    return r\n",
        "l1=[[1,2,3],[4,5,6]]\n",
        "l2=[[6,8,4],[7,5,9]]\n",
        "print(multi(l1,l2))"
      ],
      "metadata": {
        "id": "iII_FuxFHRcQ"
      },
      "execution_count": null,
      "outputs": []
    },
    {
      "cell_type": "code",
      "source": [
        "import numpy as np\n",
        "def rank(l):\n",
        "  l1=l.copy()\n",
        "  rank=0\n",
        "  l3=[]\n",
        "  r=[]\n",
        "  r1=[]\n",
        "  m=[]\n",
        "  l1.sort(reverse=True)\n",
        "  for x in l1:\n",
        "    if x not in l3:\n",
        "      l3.append(x)\n",
        "  for x in l3:\n",
        "    cnt=l1.count(x)\n",
        "    m.append(cnt)\n",
        "    if(cnt==1):\n",
        "      r.append(rank+1)\n",
        "    else:\n",
        "      sum=0\n",
        "      for i in range(rank+1,rank+cnt+1):\n",
        "        sum=sum+i\n",
        "      r.append(sum/cnt)\n",
        "    rank=rank+cnt\n",
        "  for i in l:\n",
        "    for j in range(len(l3)):\n",
        "      if(i==l3[j]):\n",
        "        r1.append(r[j])\n",
        "  return r1,m\n",
        "x=[115,109,112,87,98,120,98,100,98,118]\n",
        "rx,m1=rank(x)\n",
        "print(rx)\n",
        "print(m1)"
      ],
      "metadata": {
        "colab": {
          "base_uri": "https://localhost:8080/"
        },
        "id": "7vgDKvqNsbrA",
        "outputId": "5da6a1ad-dd1f-429d-bfad-f18a55c586bb"
      },
      "execution_count": null,
      "outputs": [
        {
          "output_type": "stream",
          "name": "stdout",
          "text": [
            "[3, 5, 4, 10, 8.0, 1, 8.0, 6, 8.0, 2]\n",
            "[1, 1, 1, 1, 1, 1, 3, 1]\n"
          ]
        }
      ]
    },
    {
      "cell_type": "code",
      "source": [
        "import numpy as np\n",
        "import pandas as pd\n",
        "def rank(l):\n",
        "  l1=l.copy()\n",
        "  l1.sort(reverse=True)\n",
        "  print(\"sorted\",l1)\n",
        "  rank=0\n",
        "  l3=[]               #removal of duplicates\n",
        "  r=[]                #rank \n",
        "  m=[]                #for count\n",
        "  r1=[]\n",
        "  for i in l1:\n",
        "    if i not in l3:\n",
        "      l3.append(i)\n",
        "  print(l3)\n",
        "  for e in l3:\n",
        "    cnt=l1.count(e)\n",
        "    m.append(cnt)\n",
        "    if(cnt==1):\n",
        "      r.append(rank+1)\n",
        "    else:\n",
        "      sum=0\n",
        "      for i in range(rank+1,rank+cnt+1):\n",
        "        sum=sum+i\n",
        "      r.append(sum/cnt)\n",
        "    rank=rank+cnt\n",
        "  for i in l:\n",
        "    for j in range(len(l3)):\n",
        "      if(i==l3[j]):\n",
        "        r1.append(r[j])\n",
        "  return r1,m\n",
        "def corelation(n):\n",
        "  return (n*(n**2-1))/12\n",
        "x=[115,109,112,87,98,120,98,100,98,118]\n",
        "y=[75,73,85,70,76,82,65,73,68,80]\n",
        "n=len(x)\n",
        "rx,m1=rank(x)\n",
        "ry,m2=rank(y)\n",
        "print(rx)\n",
        "print(m1)\n",
        "cf=0\n",
        "for x in m1:\n",
        "  if(x!=1):\n",
        "    cf=cf+corelation(x)\n",
        "for x in m2:\n",
        "  if(x!=1):\n",
        "    cf=cf+corelation(x)\n",
        "d2=[]\n",
        "for i in range(n):\n",
        "  d2.append((rx[i]-ry[i])**2)\n",
        "sd2=sum(d2)+cf\n",
        "row=1-((6*sd2)/(n*(n**2-1)))\n",
        "print(\"corelation coefficient is : \",row)"
      ],
      "metadata": {
        "colab": {
          "base_uri": "https://localhost:8080/"
        },
        "id": "HzZYvOV4wDcg",
        "outputId": "91f74d99-cb85-47f4-84c4-a138398d62ec"
      },
      "execution_count": null,
      "outputs": [
        {
          "output_type": "stream",
          "name": "stdout",
          "text": [
            "sorted [120, 118, 115, 112, 109, 100, 98, 98, 98, 87]\n",
            "[120, 118, 115, 112, 109, 100, 98, 87]\n",
            "sorted [85, 82, 80, 76, 75, 73, 73, 70, 68, 65]\n",
            "[85, 82, 80, 76, 75, 73, 70, 68, 65]\n",
            "[3, 5, 4, 10, 8.0, 1, 8.0, 6, 8.0, 2]\n",
            "[1, 1, 1, 1, 1, 1, 3, 1]\n",
            "corelation coefficient is :  0.7272727272727273\n"
          ]
        }
      ]
    },
    {
      "cell_type": "code",
      "source": [
        "def transpose(x):\n",
        "  return [[x[j][i] for j in range(len(x))]for i in range(len(x[0]))]\n",
        "def minor(m,i,j):\n",
        "  return [row[:j]+row[j+1:] for row in (m[:i]+m[i+1:])]\n",
        "def det(m):\n",
        "  if(len(m)==2):\n",
        "    return m[0][0]*m[1][1]-m[0][1]*m[1][0]\n",
        "  d=0\n",
        "  for c in range(len(m)):\n",
        "    d+=((-1)**c)*m[0][c]*det(minor(m,0,c))\n",
        "  return d\n",
        "#print(det([[5,10,30],[10,30,100],[30,100,354]]))\n",
        "def cofactor(m):\n",
        "  cf=[[0 for i in range(len(m))]for j in range(len(m[0]))]\n",
        "  for i in range(len(m)):\n",
        "    for j in range(len(m[0])):\n",
        "      cf[i][j]+=((-1)**(j+i))*det(minor(m,i,j))\n",
        "  return cf\n",
        "def inverse(m):\n",
        "  r=[[0 for i in range(len(m))]for j in range(len(m[0]))]\n",
        "  c=transpose(cofactor(m))\n",
        "  for i in range(len(m)):\n",
        "    for j in range(len(m[0])):\n",
        "      r[i][j]=c[i][j]/det(m)\n",
        "  return r\n",
        "l=[[7,0,0],[0,68,-67],[0,-67,68]]\n",
        "print(inverse(l))"
      ],
      "metadata": {
        "colab": {
          "base_uri": "https://localhost:8080/"
        },
        "id": "pNqVqFHZzR6O",
        "outputId": "ee2e4723-a056-407e-c870-63bf21abd2a6"
      },
      "execution_count": null,
      "outputs": [
        {
          "output_type": "stream",
          "name": "stdout",
          "text": [
            "[[0.14285714285714285, 0.0, 0.0], [0.0, 0.5037037037037037, 0.4962962962962963], [0.0, 0.4962962962962963, 0.5037037037037037]]\n"
          ]
        }
      ]
    }
  ],
  "metadata": {
    "colab": {
      "collapsed_sections": [],
      "provenance": [],
      "authorship_tag": "ABX9TyOW9M8EtYB64KOlP6k6k5B0",
      "include_colab_link": true
    },
    "gpuClass": "standard",
    "kernelspec": {
      "display_name": "Python 3",
      "name": "python3"
    },
    "language_info": {
      "name": "python"
    }
  },
  "nbformat": 4,
  "nbformat_minor": 0
}